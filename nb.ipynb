{
 "cells": [
  {
   "cell_type": "code",
   "execution_count": 2,
   "source": [
    "from py2neo import Graph\n",
    "import pandas as pd\n",
    "import numpy as np\n",
    "from scipy.spatial.distance import cosine\n"
   ],
   "outputs": [
    {
     "output_type": "error",
     "ename": "ModuleNotFoundError",
     "evalue": "No module named 'scipy'",
     "traceback": [
      "\u001b[0;31m---------------------------------------------------------------------------\u001b[0m",
      "\u001b[0;31mModuleNotFoundError\u001b[0m                       Traceback (most recent call last)",
      "Cell \u001b[0;32mIn[2], line 4\u001b[0m\n\u001b[1;32m      2\u001b[0m \u001b[38;5;28;01mimport\u001b[39;00m \u001b[38;5;21;01mpandas\u001b[39;00m \u001b[38;5;28;01mas\u001b[39;00m \u001b[38;5;21;01mpd\u001b[39;00m\n\u001b[1;32m      3\u001b[0m \u001b[38;5;28;01mimport\u001b[39;00m \u001b[38;5;21;01mnumpy\u001b[39;00m \u001b[38;5;28;01mas\u001b[39;00m \u001b[38;5;21;01mnp\u001b[39;00m\n\u001b[0;32m----> 4\u001b[0m \u001b[38;5;28;01mfrom\u001b[39;00m \u001b[38;5;21;01mscipy\u001b[39;00m\u001b[38;5;21;01m.\u001b[39;00m\u001b[38;5;21;01mspatial\u001b[39;00m\u001b[38;5;21;01m.\u001b[39;00m\u001b[38;5;21;01mdistance\u001b[39;00m \u001b[38;5;28;01mimport\u001b[39;00m cosine\n",
      "\u001b[0;31mModuleNotFoundError\u001b[0m: No module named 'scipy'"
     ]
    }
   ],
   "metadata": {}
  },
  {
   "cell_type": "code",
   "execution_count": 2,
   "source": [
    "def load_data(data)-> pd.DataFrame:\n",
    "    return pd.read_csv(data)\n",
    "\n",
    "def normalise_df(df:pd.DataFrame) -> pd.DataFrame:\n",
    "    return df.apply(lambda x:x/(np.linalg.norm(x)),axis=1)\n",
    "\n",
    "def assign_cluster(df:pd.DataFrame) -> pd.Series:\n",
    "    return df[cluster_cols].idxmax(axis=1)\n",
    "\n",
    "def calculate_similarity(df:pd.DataFrame) -> pd.DataFrame:\n",
    "    df.apply(lambda x:df.dot(x),axis=1)\n",
    "    return \n",
    "\n",
    "def determine_relations(df:pd.DataFrame) -> pd.DataFrame:\n",
    "    return df.applymap(lambda x:x if x>=0.99 else 0)\n",
    "\n",
    "df = load_data('http://dropbox.jobtome.com/data/samples/job_graph_matrix.csv')\n",
    "cluster_cols = [f'c{col_num}' for col_num in range(22)]\n",
    "df_n = normalise_df(df[cluster_cols])\n",
    "df['BelongsTo'] = assign_cluster(df[cluster_cols])\n",
    "# similarities = calculate_similarity(df_n)\n",
    "# relations = determine_relations(similarities)"
   ],
   "outputs": [],
   "metadata": {}
  },
  {
   "cell_type": "code",
   "execution_count": null,
   "source": [
    "len(relations)"
   ],
   "outputs": [],
   "metadata": {}
  },
  {
   "cell_type": "code",
   "execution_count": null,
   "source": [
    "df = pd.read_csv('http://dropbox.jobtome.com/data/samples/job_graph_matrix.csv')"
   ],
   "outputs": [],
   "metadata": {}
  },
  {
   "cell_type": "code",
   "execution_count": null,
   "source": [
    "df.head()   #16593\n",
    "16593*16593"
   ],
   "outputs": [],
   "metadata": {}
  },
  {
   "cell_type": "code",
   "execution_count": null,
   "source": [
    "\n",
    "\n",
    "df['cluster']=df[cluster_cols].idxmax(axis=1)"
   ],
   "outputs": [],
   "metadata": {}
  },
  {
   "cell_type": "code",
   "execution_count": null,
   "source": [
    "df.head()"
   ],
   "outputs": [],
   "metadata": {}
  },
  {
   "cell_type": "code",
   "execution_count": null,
   "source": [
    "df2 = pd.DataFrame(\n",
    "    {\n",
    "        0:[1,2,-1,1,-2],\n",
    "        1:[0,3,-1,1,6],\n",
    "        2:[-1,-1,5,1,5],\n",
    "        3:[0,3,-1,1,1],\n",
    "        4:[0,3,-1,1,2]\n",
    "    }\n",
    ")\n",
    "df3 = pd.DataFrame(\n",
    "    {\n",
    "        \"JobId\":[\"a\",\"b\",\"c\"],\n",
    "        \"c1\":[0,3,-1],\n",
    "        \"c2\":[-2,-11,6]\n",
    "    },\n",
    ")\n",
    "df3"
   ],
   "outputs": [],
   "metadata": {}
  },
  {
   "cell_type": "code",
   "execution_count": null,
   "source": [
    "calculate_similarity(df2)"
   ],
   "outputs": [],
   "metadata": {}
  },
  {
   "cell_type": "code",
   "execution_count": null,
   "source": [
    "# df2[df2.columns>0 and df2.index<df2.columns]\n",
    "for i in range(len(df2)-1):\n",
    "    print(df2.index[df2.index > i],i)"
   ],
   "outputs": [],
   "metadata": {}
  },
  {
   "cell_type": "code",
   "execution_count": null,
   "source": [
    "# for k in range(1,len(df2):\n",
    "#     print(np.diag(df2,k))\n",
    "\n",
    "for k in range(1,len(df2)):\n",
    "    print([{\"JobId\":df2.iloc[k+v]} for v in range(len(df2)-k) if calculate_similarity(df2).iloc[k+v,v]>0])\n",
    "\n",
    "\n",
    "# for k in range(1,len(df2)):\n",
    "#     print( [(k,v) for v in range(len(df2)-k) ] )\n",
    "#     # print([(k+v,v) for v in range(len(df2)-k)])\n",
    "# # print(df2.iloc[0,1] > 0)\n",
    "\n",
    "\n",
    "'''\n",
    "[(1, 0), (2, 1), (3, 2), (4, 3)]\n",
    "[(2, 0), (3, 1), (4, 2)]\n",
    "[(3, 0), (4, 1)]\n",
    "'''"
   ],
   "outputs": [],
   "metadata": {}
  },
  {
   "cell_type": "code",
   "execution_count": null,
   "source": [
    "df2.apply(lambda x:x/np.linalg.norm(x),axis=1)\n",
    "# df3=df3.apply(lambda x:x/np.linalg.norm(x),axis=1)"
   ],
   "outputs": [],
   "metadata": {}
  },
  {
   "cell_type": "code",
   "execution_count": null,
   "source": [
    "import numpy as np\n",
    "df2.apply(lambda x:df3.dot(x),axis=1).applymap(lambda x:x if x>=0.99 else 0)"
   ],
   "outputs": [],
   "metadata": {}
  },
  {
   "cell_type": "code",
   "execution_count": null,
   "source": [
    "dff = pd.DataFrame([[0, 1, -2, -1], [1, 1, 1, 1]])\n",
    "ser = pd.Series([1, 1, 2, 1])"
   ],
   "outputs": [],
   "metadata": {}
  },
  {
   "cell_type": "code",
   "execution_count": null,
   "source": [
    "ser"
   ],
   "outputs": [],
   "metadata": {}
  },
  {
   "cell_type": "code",
   "execution_count": null,
   "source": [
    "graph = Graph(\"bolt://localhost:7687\", auth=(\"neo4j\", \"your_password\"))"
   ],
   "outputs": [],
   "metadata": {}
  },
  {
   "cell_type": "code",
   "execution_count": null,
   "source": [
    "query = f'''LOAD CSV WITH HEADERS FROM \"http://dropbox.jobtome.com/data/samples/job_graph_matrix.csv\" AS row\n",
    "\n",
    "'''"
   ],
   "outputs": [],
   "metadata": {}
  },
  {
   "cell_type": "code",
   "execution_count": null,
   "source": [
    "query = 'CREATE (p:Person {eats:1, buys:20})-[relation:LIKES]->(food:Chocolate)'\n",
    "graph.run(query)"
   ],
   "outputs": [],
   "metadata": {}
  },
  {
   "cell_type": "code",
   "execution_count": null,
   "source": [
    "\n",
    "query2 = f'''MATCH(p:Person)--(c:Chocolate)\n",
    "UNWIND keys(p) as k\n",
    "WITH p,k,p[k] as value\n",
    "ORDER BY value DESC\n",
    "LIMIT 2\n",
    "RETURN k'''\n",
    "query_result = graph.run(query2)\n",
    "df = query_result.to_data_frame()\n",
    "key = df.k[0]\n",
    "query3 = f'''MATCH(p:Person)\n",
    "CREATE (d:{key})-[:OWNED_BY]->(p)\n",
    "'''\n",
    "graph.run(query3)"
   ],
   "outputs": [],
   "metadata": {}
  }
 ],
 "metadata": {
  "orig_nbformat": 4,
  "language_info": {
   "name": "python",
   "version": "3.8.10",
   "mimetype": "text/x-python",
   "codemirror_mode": {
    "name": "ipython",
    "version": 3
   },
   "pygments_lexer": "ipython3",
   "nbconvert_exporter": "python",
   "file_extension": ".py"
  },
  "kernelspec": {
   "name": "python3",
   "display_name": "Python 3.8.10 64-bit ('.env': venv)"
  },
  "interpreter": {
   "hash": "f2b56109965db6a2b72392ec1542a93f99572ce207378d72abcf707ef1b78de7"
  }
 },
 "nbformat": 4,
 "nbformat_minor": 2
}